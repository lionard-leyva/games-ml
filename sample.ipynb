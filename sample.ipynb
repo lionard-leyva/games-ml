{
 "cells": [
  {
   "cell_type": "code",
   "execution_count": 14,
   "id": "initial_id",
   "metadata": {
    "collapsed": true,
    "ExecuteTime": {
     "end_time": "2024-03-03T20:59:08.003164Z",
     "start_time": "2024-03-03T20:59:07.992290Z"
    }
   },
   "outputs": [
    {
     "data": {
      "text/plain": "    edad  genero      juegos\n0      8       0      accion\n1     11       0      accion\n2     12       0         fps\n3     13       0         fps\n4     15       0         fps\n5     18       0         fps\n6     22       0        jrpg\n7     25       0        jrpg\n8     28       0        jrpg\n9     31       0      accion\n10    32       0      accion\n11    35       0      accion\n12    10       1  plataforma\n13    13       1  plataforma\n14    14       1  plataforma\n15    15       1      puzzle\n16    18       1      puzzle\n17    19       1         fps\n18    22       1         fps\n19    25       1         fps",
      "text/html": "<div>\n<style scoped>\n    .dataframe tbody tr th:only-of-type {\n        vertical-align: middle;\n    }\n\n    .dataframe tbody tr th {\n        vertical-align: top;\n    }\n\n    .dataframe thead th {\n        text-align: right;\n    }\n</style>\n<table border=\"1\" class=\"dataframe\">\n  <thead>\n    <tr style=\"text-align: right;\">\n      <th></th>\n      <th>edad</th>\n      <th>genero</th>\n      <th>juegos</th>\n    </tr>\n  </thead>\n  <tbody>\n    <tr>\n      <th>0</th>\n      <td>8</td>\n      <td>0</td>\n      <td>accion</td>\n    </tr>\n    <tr>\n      <th>1</th>\n      <td>11</td>\n      <td>0</td>\n      <td>accion</td>\n    </tr>\n    <tr>\n      <th>2</th>\n      <td>12</td>\n      <td>0</td>\n      <td>fps</td>\n    </tr>\n    <tr>\n      <th>3</th>\n      <td>13</td>\n      <td>0</td>\n      <td>fps</td>\n    </tr>\n    <tr>\n      <th>4</th>\n      <td>15</td>\n      <td>0</td>\n      <td>fps</td>\n    </tr>\n    <tr>\n      <th>5</th>\n      <td>18</td>\n      <td>0</td>\n      <td>fps</td>\n    </tr>\n    <tr>\n      <th>6</th>\n      <td>22</td>\n      <td>0</td>\n      <td>jrpg</td>\n    </tr>\n    <tr>\n      <th>7</th>\n      <td>25</td>\n      <td>0</td>\n      <td>jrpg</td>\n    </tr>\n    <tr>\n      <th>8</th>\n      <td>28</td>\n      <td>0</td>\n      <td>jrpg</td>\n    </tr>\n    <tr>\n      <th>9</th>\n      <td>31</td>\n      <td>0</td>\n      <td>accion</td>\n    </tr>\n    <tr>\n      <th>10</th>\n      <td>32</td>\n      <td>0</td>\n      <td>accion</td>\n    </tr>\n    <tr>\n      <th>11</th>\n      <td>35</td>\n      <td>0</td>\n      <td>accion</td>\n    </tr>\n    <tr>\n      <th>12</th>\n      <td>10</td>\n      <td>1</td>\n      <td>plataforma</td>\n    </tr>\n    <tr>\n      <th>13</th>\n      <td>13</td>\n      <td>1</td>\n      <td>plataforma</td>\n    </tr>\n    <tr>\n      <th>14</th>\n      <td>14</td>\n      <td>1</td>\n      <td>plataforma</td>\n    </tr>\n    <tr>\n      <th>15</th>\n      <td>15</td>\n      <td>1</td>\n      <td>puzzle</td>\n    </tr>\n    <tr>\n      <th>16</th>\n      <td>18</td>\n      <td>1</td>\n      <td>puzzle</td>\n    </tr>\n    <tr>\n      <th>17</th>\n      <td>19</td>\n      <td>1</td>\n      <td>fps</td>\n    </tr>\n    <tr>\n      <th>18</th>\n      <td>22</td>\n      <td>1</td>\n      <td>fps</td>\n    </tr>\n    <tr>\n      <th>19</th>\n      <td>25</td>\n      <td>1</td>\n      <td>fps</td>\n    </tr>\n  </tbody>\n</table>\n</div>"
     },
     "execution_count": 14,
     "metadata": {},
     "output_type": "execute_result"
    }
   ],
   "source": [
    "import pandas as p\n",
    "from sklearn.tree import DecisionTreeClassifier #Importar el modelo de clasificación\n",
    "from sklearn.model_selection import train_test_split #Importar la función para dividir los datos de entrenamiento y prueba\n",
    "\n",
    "data_juegos = p.read_csv(\"juegos-ml.csv\") #Cargar el archivo csv\n",
    "X= data_juegos.drop(columns=[\"juegos\"]) #Datos de entrada quitamos la columna de juegos y mantenemos las columnas edad y genero\n",
    "y= data_juegos[\"juegos\"] #Datos de salida solo la columna de juegos\n",
    "train_test_split(X,y, test_size=0.20) # X: datos de entrada para predecir y y: datos de salida para el resultado de la predicción \n",
    "#test_size=0.20: 20% de los datos para prueba y 80% para entrenamiento\n",
    "\n",
    "modelo = DecisionTreeClassifier()\n",
    "modelo.fit(X.values,y.values) #Entrenamiento del modelo X = datos de entrada, y = datos de salida, pero no permite nombres de columnas  \n",
    "predicion = modelo.predict([[14,0],[29,0],[30,0]]) #Predicción de un nuevo dato\n",
    "predicion"
   ]
  },
  {
   "cell_type": "code",
   "outputs": [],
   "source": [],
   "metadata": {
    "collapsed": false
   },
   "id": "263d9ec2d16358d3"
  },
  {
   "cell_type": "code",
   "outputs": [
    {
     "data": {
      "text/plain": "array(['fps', 'jrpg', 'accion'], dtype=object)"
     },
     "execution_count": 15,
     "metadata": {},
     "output_type": "execute_result"
    }
   ],
   "source": [],
   "metadata": {
    "collapsed": false,
    "ExecuteTime": {
     "end_time": "2024-03-03T21:00:40.704956Z",
     "start_time": "2024-03-03T21:00:40.698254Z"
    }
   },
   "id": "f730c71458e643b",
   "execution_count": 15
  },
  {
   "cell_type": "code",
   "outputs": [],
   "source": [],
   "metadata": {
    "collapsed": false
   },
   "id": "b5261471f72a511a"
  }
 ],
 "metadata": {
  "kernelspec": {
   "display_name": "Python 3",
   "language": "python",
   "name": "python3"
  },
  "language_info": {
   "codemirror_mode": {
    "name": "ipython",
    "version": 2
   },
   "file_extension": ".py",
   "mimetype": "text/x-python",
   "name": "python",
   "nbconvert_exporter": "python",
   "pygments_lexer": "ipython2",
   "version": "2.7.6"
  }
 },
 "nbformat": 4,
 "nbformat_minor": 5
}
