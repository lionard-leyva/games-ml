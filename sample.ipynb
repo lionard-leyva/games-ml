{
 "cells": [
  {
   "cell_type": "code",
   "outputs": [
    {
     "data": {
      "text/plain": "0.75"
     },
     "execution_count": 13,
     "metadata": {},
     "output_type": "execute_result"
    }
   ],
   "source": [
    "import pandas as p\n",
    "from sklearn.tree import DecisionTreeClassifier #Importar el modelo de clasificación\n",
    "from sklearn.model_selection import train_test_split #Importar la función para dividir los datos de entrenamiento y prueba\n",
    "from sklearn.metrics import accuracy_score #Importar la función para calcular la precisión del modelo\n",
    "data_juegos = p.read_csv(\"juegos-ml.csv\") #Cargar el archivo csv\n",
    "data_juegos\n",
    "# limpiar datos\n",
    "data_juegos = data_juegos.dropna() #Eliminar los datos nulos\n",
    "#Datos de entrada\n",
    "X = data_juegos.drop(columns =[\"juegos\"])\n",
    "# Datos de salida\n",
    "y = data_juegos[\"juegos\"]\n",
    "\n",
    "X_entrenar,X_prueba,y_entrenar,y_prueba=train_test_split(X.values, y, test_size=0.2)\n",
    "\n",
    "#80% de los datos - Fase de entrenamiento:\n",
    "#X_entrenar: Este conjunto representa el 80% de todas tus características originales (edad y género). Este es el conjunto más grande porque queremos darle al modelo suficiente información y variedad de ejemplos para que pueda aprender efectivamente.\n",
    "#y_entrenar: Estas son las etiquetas (tipos de juegos) correspondientes al 80% de tus características que se usarán para el entrenamiento.\n",
    "\n",
    "#20% de los datos - Fase de prueba:\n",
    "#X_prueba: Este conjunto representa el 20% restante de tus características. Estos datos se mantienen separados y no se utilizan durante el entrenamiento. Se usan solo después de que el modelo se ha entrenado, para evaluar su rendimiento.\n",
    "#y_prueba: Estas son las etiquetas (tipos de juegos) que corresponden al 20% de tus características de prueba.\n",
    "\n",
    "#Dividir los datos de entrenamiento y prueba\n",
    "modelo = DecisionTreeClassifier() \n",
    "#modelo.fit(X.values, y) #Entrenar el modelo con X: datos de entrada y y: datos de salida\n",
    "modelo.fit(X_entrenar, y_entrenar) #Entrenar el modelo con \n",
    "predicion = modelo.predict(X_prueba) #Hacer predicciones con el modelo\n",
    "\n",
    "puntaje= accuracy_score(y_prueba,predicion)\n",
    "puntaje\n"
   ],
   "metadata": {
    "collapsed": false,
    "ExecuteTime": {
     "end_time": "2024-03-08T05:05:04.871407Z",
     "start_time": "2024-03-08T05:05:04.855548Z"
    }
   },
   "id": "1c40a8a65f4dbd9a",
   "execution_count": 13
  },
  {
   "cell_type": "code",
   "outputs": [],
   "source": [],
   "metadata": {
    "collapsed": false,
    "ExecuteTime": {
     "end_time": "2024-03-08T05:04:58.343304Z",
     "start_time": "2024-03-08T05:04:58.341529Z"
    }
   },
   "id": "f958a4220770e8cf",
   "execution_count": 11
  },
  {
   "cell_type": "code",
   "outputs": [],
   "source": [],
   "metadata": {
    "collapsed": false
   },
   "id": "6bfc6980a69d68c8"
  }
 ],
 "metadata": {
  "kernelspec": {
   "display_name": "Python 3",
   "language": "python",
   "name": "python3"
  },
  "language_info": {
   "codemirror_mode": {
    "name": "ipython",
    "version": 2
   },
   "file_extension": ".py",
   "mimetype": "text/x-python",
   "name": "python",
   "nbconvert_exporter": "python",
   "pygments_lexer": "ipython2",
   "version": "2.7.6"
  }
 },
 "nbformat": 4,
 "nbformat_minor": 5
}
